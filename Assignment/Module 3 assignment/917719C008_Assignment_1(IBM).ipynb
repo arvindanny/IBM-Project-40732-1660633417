{
  "cells": [
    {
      "cell_type": "markdown",
      "id": "b0135ed0",
      "metadata": {
        "id": "b0135ed0"
      },
      "source": [
        "Module 3 : Python Assignment\n",
        "\n",
        " "
      ]
    },
    {
      "cell_type": "code",
      "execution_count": 1,
      "id": "bd5ada55",
      "metadata": {
        "colab": {
          "base_uri": "https://localhost:8080/"
        },
        "id": "bd5ada55",
        "outputId": "5ccbc917-642d-42ab-dc79-813ec900461f"
      },
      "outputs": [
        {
          "output_type": "stream",
          "name": "stdout",
          "text": [
            "Initial list\n",
            "[10, 12, 1, 5]\n",
            "Insert 9 at index 1\n",
            "[10, 9, 12, 1, 5]\n",
            "Remove 1st occurence of 1\n",
            "[10, 9, 12, 5]\n",
            "Append 7\n",
            "[10, 9, 12, 5, 7]\n",
            "Sort the list\n",
            "[5, 7, 9, 10, 12]\n",
            "Pop from list\n",
            "[5, 7, 9, 10]\n",
            "Reverse list\n",
            "[10, 9, 7, 5]\n"
          ]
        }
      ],
      "source": [
        "\"\"\" Consider a list (list = []). You can perform the following commands:\n",
        "insert i e: Insert integer  at position .\n",
        "print: Print the list.\n",
        "remove e: Delete the first occurrence of integer .\n",
        "append e: Insert integer  at the end of the list.\n",
        "sort: Sort the list.\n",
        "pop: Pop the last element from the list.\n",
        "reverse: Reverse the list.\n",
        "Initialize your list and read in the value of  followed by  lines of commands where each command will be of the  types listed above. Iterate through each command in order and perform the corresponding operation on your list.\"\"\"\n",
        "\n",
        "def print_list(list,operation):\n",
        "    print(operation)\n",
        "    print(list)\n",
        "\n",
        "list = [10,12,1,5]\n",
        "print_list(list,\"Initial list\")\n",
        "\n",
        "list.insert(1,9)\n",
        "print_list(list,\"Insert 9 at index 1\")\n",
        "\n",
        "list.remove(1)\n",
        "print_list(list,\"Remove 1st occurence of 1\")\n",
        "\n",
        "list.append(7)\n",
        "print_list(list,\"Append 7\")\n",
        "\n",
        "list.sort()\n",
        "print_list(list,\"Sort the list\")\n",
        "\n",
        "list.pop()\n",
        "print_list(list,\"Pop from list\")\n",
        "\n",
        "list.reverse()\n",
        "print_list(list,\"Reverse list\")\n",
        "\n",
        "\n"
      ]
    },
    {
      "cell_type": "code",
      "execution_count": 3,
      "id": "d91ee5fb",
      "metadata": {
        "colab": {
          "base_uri": "https://localhost:8080/"
        },
        "id": "d91ee5fb",
        "outputId": "9ecb512e-91f7-4fb3-b789-abbc98383188"
      },
      "outputs": [
        {
          "output_type": "stream",
          "name": "stdout",
          "text": [
            "Please select the operation.\n",
            "a. Add\n",
            "b. Subtract\n",
            "c. Multiply\n",
            "d. Divide\n",
            "Please enter choice (a/ b/ c/ d): c\n",
            "Please enter the first number: 40\n",
            "Please enter the second number: 20\n",
            "40  *  20  =  800\n"
          ]
        }
      ],
      "source": [
        "#Write a Calculator program in Python?\n",
        "\n",
        "def add(P, Q):    \n",
        "   # This function is used for adding two numbers   \n",
        "   return P + Q   \n",
        "def subtract(P, Q):   \n",
        "   # This function is used for subtracting two numbers   \n",
        "   return P - Q   \n",
        "def multiply(P, Q):   \n",
        "   # This function is used for multiplying two numbers   \n",
        "   return P * Q   \n",
        "def divide(P, Q):   \n",
        "   # This function is used for dividing two numbers    \n",
        "   return P / Q    \n",
        "# Now we will take inputs from the user    \n",
        "print (\"Please select the operation.\")    \n",
        "print (\"a. Add\")    \n",
        "print (\"b. Subtract\")    \n",
        "print (\"c. Multiply\")    \n",
        "print (\"d. Divide\")    \n",
        "    \n",
        "choice = input(\"Please enter choice (a/ b/ c/ d): \")    \n",
        "    \n",
        "num_1 = int (input (\"Please enter the first number: \"))    \n",
        "num_2 = int (input (\"Please enter the second number: \"))    \n",
        "    \n",
        "if choice == 'a':    \n",
        "   print (num_1, \" + \", num_2, \" = \", add(num_1, num_2))    \n",
        "    \n",
        "elif choice == 'b':    \n",
        "   print (num_1, \" - \", num_2, \" = \", subtract(num_1, num_2))    \n",
        "    \n",
        "elif choice == 'c':    \n",
        "   print (num_1, \" * \", num_2, \" = \", multiply(num_1, num_2))    \n",
        "elif choice == 'd':    \n",
        "   print (num_1, \" / \", num_2, \" = \", divide(num_1, num_2))    \n",
        "else:    \n",
        "   print (\"This is an invalid input\")    "
      ]
    },
    {
      "cell_type": "code",
      "execution_count": 5,
      "id": "53873733",
      "metadata": {
        "colab": {
          "base_uri": "https://localhost:8080/"
        },
        "id": "53873733",
        "outputId": "08b56f58-0964-45ec-e940-ab374a41f816"
      },
      "outputs": [
        {
          "output_type": "stream",
          "name": "stdout",
          "text": [
            "ARVIN DANNY\n",
            "YNNAD NIVRA\n",
            "ARVIN DA\n"
          ]
        }
      ],
      "source": [
        "#Write a prografrom audioop import reverse\n",
        "\n",
        "\n",
        "firstname=\"ARVIN \"\n",
        "lastname=\"DANNY\"\n",
        "name=firstname+lastname\n",
        "print(name)\n",
        "print(name[::-1])\n",
        "print(name[0:8])\n"
      ]
    },
    {
      "cell_type": "markdown",
      "id": "d4495696",
      "metadata": {
        "id": "d4495696"
      },
      "source": [
        "Why is Python a popular programming language?\n",
        "\n",
        "It uses a simplified syntax with an emphasis on natural language, for a much easier learning curve for beginners. And, because Python is free to use and is supported by an extremely large ecosystem of libraries and packages, it’s often the first-choice language for new developers. "
      ]
    },
    {
      "cell_type": "markdown",
      "id": "f145ebd8",
      "metadata": {
        "id": "f145ebd8"
      },
      "source": [
        "What are the other Frameworks that can be used with python?\n",
        "\n",
        "Django,\n",
        "Pyramid,\n",
        "Flask,\n",
        "CherryPy and\n",
        "ETC"
      ]
    },
    {
      "cell_type": "markdown",
      "id": "ee4b7b11",
      "metadata": {
        "id": "ee4b7b11"
      },
      "source": [
        "Full form of WSGI?\n",
        "\n",
        "Web Server Gateway Interface"
      ]
    }
  ],
  "metadata": {
    "kernelspec": {
      "display_name": "Python 3 (ipykernel)",
      "language": "python",
      "name": "python3"
    },
    "language_info": {
      "codemirror_mode": {
        "name": "ipython",
        "version": 3
      },
      "file_extension": ".py",
      "mimetype": "text/x-python",
      "name": "python",
      "nbconvert_exporter": "python",
      "pygments_lexer": "ipython3",
      "version": "3.9.12"
    },
    "colab": {
      "provenance": [],
      "collapsed_sections": []
    }
  },
  "nbformat": 4,
  "nbformat_minor": 5
}